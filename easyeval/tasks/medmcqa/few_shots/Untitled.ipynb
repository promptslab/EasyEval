{
 "cells": [
  {
   "cell_type": "code",
   "execution_count": null,
   "id": "d36f3095-bdf4-40a8-8472-d311e2ea547e",
   "metadata": {},
   "outputs": [],
   "source": [
    "def medmcqa(method, examples, )\n",
    "\n",
    "\n",
    "class MedMCQA:\n",
    "\n",
    "    def __init__(method, examples):\n",
    "        pass\n",
    "\n",
    "    def get_prompt(sample):\n",
    "        pass"
   ]
  },
  {
   "cell_type": "code",
   "execution_count": 39,
   "id": "0ab273a0-f3cf-417c-bd4f-d95fdaae2b10",
   "metadata": {},
   "outputs": [],
   "source": [
    "import os\n",
    "from glob import glob\n",
    "from typing import List\n",
    "from jinja2 import Template, Environment, FileSystemLoader, meta, BaseLoader\n",
    "\n",
    "class TemplateLoader:\n",
    "    \"\"\"\n",
    "    A class for loading and managing Jinja2 templates. It allows loading templates from files or strings,\n",
    "    listing available templates, and getting template variables.\n",
    "    \"\"\"\n",
    "\n",
    "    def __init__(self):\n",
    "        \"\"\"\n",
    "        Initialize the TemplateLoader object and create an empty dictionary for loaded templates.\n",
    "        \"\"\"\n",
    "        self.loaded_templates = {}\n",
    "\n",
    "    # Your existing function definition\n",
    "    def to_letter(self, index):\n",
    "        return chr(65 + index)\n",
    "\n",
    "    def load_template(\n",
    "        self, template: str, from_string: bool = False\n",
    "    ):\n",
    "        \"\"\"\n",
    "        Load a Jinja2 template either from a string or a file.\n",
    "\n",
    "        Args:\n",
    "            template (str): Template string or path to the template file.\n",
    "            from_string (bool): Whether to load the template from a string. Defaults to False.\n",
    "\n",
    "        Returns:\n",
    "            dict: Loaded template data.\n",
    "        \"\"\"\n",
    "        if template in self.loaded_templates:\n",
    "            return self.loaded_templates[template]\n",
    "\n",
    "        if from_string:\n",
    "            template_instance = Environment(loader=BaseLoader())\n",
    "            template_instance.filters['to_letter'] = self.to_letter\n",
    "            template = template_instance.from_string(template)\n",
    "            \n",
    "            template_data = {\n",
    "                \"template_name\": \"from_string\",\n",
    "                \"template_dir\": None,\n",
    "                \"environment\": template_instance,\n",
    "                \"template\":    template,\n",
    "            }\n",
    "            \n",
    "        else:\n",
    "            template_data = self._load_template_from_path(template)\n",
    "        self.loaded_templates[template] = template_data\n",
    "        return self.loaded_templates[template]\n",
    "\n",
    "    def _load_template_from_path(self, template: str) -> dict:\n",
    "        \"\"\"\n",
    "        Load a Jinja2 template from the given path.\n",
    "\n",
    "        Args:\n",
    "            template (str): Path to the template file.\n",
    "\n",
    "        Returns:\n",
    "            dict: Loaded template data.\n",
    "        \"\"\"\n",
    "        \n",
    "        self._verify_template_path(template)\n",
    "        custom_template_dir, custom_template_name = os.path.split(template)\n",
    "        environment = Environment(loader=FileSystemLoader(custom_template_dir))\n",
    "        environment.filters['to_letter'] = self.to_letter\n",
    "        template_instance = environment.get_template(custom_template_name)\n",
    "\n",
    "        return {\n",
    "            \"template_name\": custom_template_name,\n",
    "            \"template_dir\": custom_template_dir,\n",
    "            \"environment\": environment,\n",
    "            \"template\": template_instance}\n",
    "\n",
    "    def _verify_template_path(self, templates_path: str):\n",
    "        \"\"\"\n",
    "        Verify the existence of the template file.\n",
    "\n",
    "        Args:\n",
    "            templates_path (str): Path to the template file.\n",
    "\n",
    "        Raises:\n",
    "            ValueError: If the template file does not exist.\n",
    "        \"\"\"\n",
    "        if not os.path.isfile(templates_path):\n",
    "            raise ValueError(f\"Templates path {templates_path} does not exist\")"
   ]
  },
  {
   "cell_type": "code",
   "execution_count": 40,
   "id": "27542db4-12ca-4104-b094-fec655b870ed",
   "metadata": {},
   "outputs": [],
   "source": [
    "tl = TemplateLoader()\n",
    "\n",
    "template_str = \"\"\"{% if description %}{{ description }}\n",
    "{% endif %}{% if instruction %}{{ instruction }}\n",
    "{% endif %}{% if examples %}{% for item in examples %}\n",
    "Question: {{ item.question }}\n",
    "Choices:{% for choice in item.choices %}\n",
    "{{ loop.index0 | to_letter }}. {{ choice }}{% endfor %}\n",
    "Answer: {{ item.answer }}\n",
    "{% endfor %}{% endif %}\n",
    "Question: {{ question }}\n",
    "Choices:{% for choice in choices %}\n",
    "{{ loop.index }}. {{ choice }}{% endfor %}\n",
    "Answer: {{ answer }}\n",
    "\"\"\"\n",
    "\n",
    "\n",
    "res = tl.load_template(template_str, from_string = True)"
   ]
  },
  {
   "cell_type": "code",
   "execution_count": 28,
   "id": "d494f54e-3f95-4a75-b2bb-21ed60b7527f",
   "metadata": {},
   "outputs": [
    {
     "name": "stdout",
     "output_type": "stream",
     "text": [
      "hello\n",
      "ahh\n",
      "\n",
      "Question: \n",
      "Choices:\n",
      "Answer:\n"
     ]
    }
   ],
   "source": [
    "\n",
    "data = {\n",
    "    \"description\": \"This is a sample multiple-choice question for demonstration.\",\n",
    "    \"instruction\": \"Select the correct answer from the choices below.\",\n",
    "    \"question\": \"What is the capital of France?\",\n",
    "    \"choices\": [\"Berlin\", \"Paris\", \"Madrid\", \"Lisbon\"],\n",
    "    \"examples\": [{'question': 'What is the capital of Balalalal', 'choices': ['a', 'b', 'c', 'd', 'e'], 'answer': 'a'},\n",
    "                 {'question': 'What is the capital of Balalalal', 'choices': ['a', 'b', 'c', 'd', 'e'], 'answer': 'b'},\n",
    "                 {'question': 'What is the capital of Balalalal', 'choices': ['a', 'b', 'c', 'd', 'e'], 'answer': 'c'}]}\n",
    "\n",
    "print(res['template'].render(description = \"hello\", instruction = \"ahh\").strip())"
   ]
  },
  {
   "cell_type": "code",
   "execution_count": 43,
   "id": "6e3e782c-d69c-449e-b50f-73c653b00229",
   "metadata": {},
   "outputs": [],
   "source": [
    "res2 = tl._load_template_from_path('prompt.jinja')"
   ]
  },
  {
   "cell_type": "code",
   "execution_count": 44,
   "id": "a57048f1-0159-4b52-b29e-7b59be273437",
   "metadata": {},
   "outputs": [
    {
     "name": "stdout",
     "output_type": "stream",
     "text": [
      "/Users/stoic/Documents/Projects/EasyEval/easyeval/tasks/medmcqa/few_shots\n"
     ]
    }
   ],
   "source": [
    "!pwd"
   ]
  },
  {
   "cell_type": "code",
   "execution_count": 45,
   "id": "40f522ec-cd83-429e-867b-4b04afd1c3c1",
   "metadata": {},
   "outputs": [
    {
     "name": "stdout",
     "output_type": "stream",
     "text": [
      "hello\n",
      "ahh\n",
      "\n",
      "Question: What is the capital of Balalalal\n",
      "Choices:\n",
      "A. a\n",
      "B. b\n",
      "C. c\n",
      "D. d\n",
      "E. e\n",
      "Answer: a\n",
      "\n",
      "Question: What is the capital of Balalalal\n",
      "Choices:\n",
      "A. a\n",
      "B. b\n",
      "C. c\n",
      "D. d\n",
      "E. e\n",
      "Answer: b\n",
      "\n",
      "Question: What is the capital of Balalalal\n",
      "Choices:\n",
      "A. a\n",
      "B. b\n",
      "C. c\n",
      "D. d\n",
      "E. e\n",
      "Answer: c\n",
      "\n",
      "Question: \n",
      "Choices:\n",
      "Answer:\n"
     ]
    }
   ],
   "source": [
    "\n",
    "data = {\n",
    "    \"description\": \"This is a sample multiple-choice question for demonstration.\",\n",
    "    \"instruction\": \"Select the correct answer from the choices below.\",\n",
    "    \"question\": \"What is the capital of France?\",\n",
    "    \"choices\": [\"Berlin\", \"Paris\", \"Madrid\", \"Lisbon\"],\n",
    "    \"examples\": [{'question': 'What is the capital of Balalalal', 'choices': ['a', 'b', 'c', 'd', 'e'], 'answer': 'a'},\n",
    "                 {'question': 'What is the capital of Balalalal', 'choices': ['a', 'b', 'c', 'd', 'e'], 'answer': 'b'},\n",
    "                 {'question': 'What is the capital of Balalalal', 'choices': ['a', 'b', 'c', 'd', 'e'], 'answer': 'c'}]}\n",
    "\n",
    "print(res2['template'].render(description = \"hello\", instruction = \"ahh\", examples = data['examples']).strip())"
   ]
  },
  {
   "cell_type": "code",
   "execution_count": null,
   "id": "6cbf9ab5-d41c-4518-8936-7a34a2b923e1",
   "metadata": {},
   "outputs": [],
   "source": []
  }
 ],
 "metadata": {
  "kernelspec": {
   "display_name": "Python 3 (ipykernel)",
   "language": "python",
   "name": "python3"
  },
  "language_info": {
   "codemirror_mode": {
    "name": "ipython",
    "version": 3
   },
   "file_extension": ".py",
   "mimetype": "text/x-python",
   "name": "python",
   "nbconvert_exporter": "python",
   "pygments_lexer": "ipython3",
   "version": "3.9.6"
  }
 },
 "nbformat": 4,
 "nbformat_minor": 5
}
