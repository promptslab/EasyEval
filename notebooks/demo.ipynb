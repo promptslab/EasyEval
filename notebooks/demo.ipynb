{
 "cells": [
  {
   "cell_type": "code",
   "execution_count": 1,
   "id": "eadab928-a8e8-4cee-b333-646b3b967122",
   "metadata": {},
   "outputs": [
    {
     "name": "stdout",
     "output_type": "stream",
     "text": [
      "The following are multiple-choice questions (with answers) about medical knowledge.\n",
      "\n",
      "Question: The most important sign of the significance of renal artery stenosis on an angiogram is?\n",
      "Choices:\n",
      "A. A percentage diameter stenosis >70%\n",
      "B. Presence of collaterals\n",
      "C. A systolic pressure gradient >20 mmHg across the lesion\n",
      "D. Post stenotic dilatation of the renal artery\n",
      "Answer: B\n",
      "\n",
      "Question: What is the capital of France?\n",
      "Choices:\n",
      "A. Berlin\n",
      "B. Paris\n",
      "C. Madrid\n",
      "D. Lisbon\n",
      "Answer: \n"
     ]
    }
   ],
   "source": [
    "from rosettaeval import MEDMCQA\n",
    "\n",
    "sample = {\n",
    "    \"id\": 1212113,\n",
    "    \"instruction\": \"Select the correct answer from the choices below.\",\n",
    "    \"question\": \"What is the capital of France?\",\n",
    "    \"choices\": [\"Berlin\", \"Paris\", \"Madrid\", \"Lisbon\"],\n",
    "    \"correct_answer\": \"answer\",\n",
    "    \"correct_option\": \"D\",\n",
    "}\n",
    "mlk = MEDMCQA('fewshots', 1)\n",
    "print(mlk.get_prompt(sample)['full_prompt'])"
   ]
  },
  {
   "cell_type": "code",
   "execution_count": 2,
   "id": "d3ff6a63-b920-47fa-9966-0a93e2c882ae",
   "metadata": {},
   "outputs": [
    {
     "name": "stdout",
     "output_type": "stream",
     "text": [
      "The following are multiple choice questions about medical knowledge. Solve them in a step-by-step fashion, starting by summarizing the available information. Output a single option from the four options as the final answer.\n",
      "\n",
      "Question: A 36-year-old male presents to the office with a 3-week history of low back pain. He denies any recent trauma but says that he climbs in and out of his truck numerous times a day for his job. Examination of the patient in the prone position reveals a deep sacral sulcus on the left, a posterior inferior lateral angle on the right, and a lumbosacral junction that springs freely on compression. The most likely diagnosis is\n",
      "Choices:\n",
      "A. left-on-left sacral torsion\n",
      "B. left-on-right sacral torsion\n",
      "C. right unilateral sacral flexion\n",
      "D. right-on-right sacral torsion\n",
      "Explanation: Let’s solve this step-by-step, referring to authoritative sources as needed. The deep sulcus on the left, a posterior ILA on the right, with a negative spring test suggests a right-on-right sacral torsion. All other options have a deep sulcus on the right.\n",
      "Answer_text: right-on-right sacral torsion\n",
      "Answer: D\n",
      "\n",
      "Question: What is the capital of France?\n",
      "Choices:\n",
      "A. Berlin\n",
      "B. Paris\n",
      "C. Madrid\n",
      "D. Lisbon\n",
      "Explanation: \n",
      "Answer: \n",
      "\n",
      "\n",
      "\n"
     ]
    }
   ],
   "source": [
    "from rosettaeval import MEDQA\n",
    "mlk = MEDQA('cot', 1)\n",
    "print(mlk.get_prompt(sample)['full_prompt'])"
   ]
  },
  {
   "cell_type": "code",
   "execution_count": 3,
   "id": "b77170fc-19dd-42dc-8e57-b1c311e21fa8",
   "metadata": {},
   "outputs": [
    {
     "name": "stdout",
     "output_type": "stream",
     "text": [
      "The following are multiple choice questions about medical knowledge. Solve them in a step-by-step fashion, starting by summarizing the available information. Output a single option from the four options as the final answer.\n",
      "\n",
      "Question: A 22-year-old male marathon runner presents to the office with the complaint of right-sided rib pain when he runs long distances. Physical examination reveals normal heart and lung findings and an exhalation dysfunction at ribs 4-5 on the right. Which of the following muscles or muscle groups will be most useful in correcting this dysfunction utilizing a direct method?\n",
      "Choices:\n",
      "A. anterior scalene\n",
      "B. latissimus dorsi\n",
      "C. pectoralis minor\n",
      "D. quadratus lumborum\n",
      "Explanation: All of the muscles have an insertion on the rib cage; however only one has an insertion at ribs 4-5 and could be responsible for right-sided rib pain: pectoralis minor. Pectoralis minor inserts to the costal cartilage of the anterior third to fifth ribs.\n",
      "Answer_text: pectoralis minor\n",
      "Answer: C\n",
      "\n",
      "Question: What is the capital of France?\n",
      "Choices:\n",
      "A. Berlin\n",
      "B. Paris\n",
      "C. Madrid\n",
      "D. Lisbon\n",
      "Explanation: \n",
      "Answer: \n",
      "\n",
      "\n",
      "\n"
     ]
    }
   ],
   "source": [
    "from rosettaeval import MMLU_ANATOMY\n",
    "mlk = MMLU_ANATOMY('cot', 1)\n",
    "print(mlk.get_prompt(sample)['full_prompt'])"
   ]
  },
  {
   "cell_type": "code",
   "execution_count": 4,
   "id": "1bcbf7e8-8fe8-47e6-85b1-ad0ddcd7bb6c",
   "metadata": {},
   "outputs": [
    {
     "name": "stdout",
     "output_type": "stream",
     "text": [
      "The following are multiple choice questions about medical knowledge. Solve them in a step-by-step fashion, starting by summarizing the available information. Output a single option from the four options as the final answer.\n",
      "\n",
      "Question: A 22-year-old male marathon runner presents to the office with the complaint of right-sided rib pain when he runs long distances. Physical examination reveals normal heart and lung findings and an exhalation dysfunction at ribs 4-5 on the right. Which of the following muscles or muscle groups will be most useful in correcting this dysfunction utilizing a direct method?\n",
      "Choices:\n",
      "A. anterior scalene\n",
      "B. latissimus dorsi\n",
      "C. pectoralis minor\n",
      "D. quadratus lumborum\n",
      "Explanation: All of the muscles have an insertion on the rib cage; however only one has an insertion at ribs 4-5 and could be responsible for right-sided rib pain: pectoralis minor. Pectoralis minor inserts to the costal cartilage of the anterior third to fifth ribs.\n",
      "Answer_text: pectoralis minor\n",
      "Answer: C\n",
      "\n",
      "Question: What is the capital of France?\n",
      "Choices:\n",
      "A. Berlin\n",
      "B. Paris\n",
      "C. Madrid\n",
      "D. Lisbon\n",
      "Explanation: \n",
      "Answer: \n",
      "\n",
      "\n",
      "\n"
     ]
    }
   ],
   "source": [
    "from rosettaeval import MMLU_CM\n",
    "# MMLU College Medicine\n",
    "\n",
    "mlk = MMLU_CM('cot', 1)\n",
    "print(mlk.get_prompt(sample)['full_prompt'])"
   ]
  },
  {
   "cell_type": "code",
   "execution_count": 5,
   "id": "87c34207-b097-4228-b235-8e4fb2f86880",
   "metadata": {},
   "outputs": [
    {
     "name": "stdout",
     "output_type": "stream",
     "text": [
      "The following are multiple choice questions about medical knowledge. Solve them in a step-by-step fashion, starting by summarizing the available information. Output a single option from the four options as the final answer.\n",
      "\n",
      "Question: A high school science teacher fills a 1 liter bottle with pure nitrogen and seals the lid. The pressure is 1.70 atm, and the room temperature is 25◦C. Which two variables will both increase the pressure of the system, if all other variables are held constant?\n",
      "Choices:\n",
      "A. Decreasing volume, decreasing temperature\n",
      "B. Increasing temperature, increasing volume\n",
      "C. Increasing temperature, increasing moles of gas\n",
      "D. Decreasing moles of gas, increasing volume\n",
      "Explanation: According to the ideal gas law, PV = nRT (P = pressure, V = volume, n = number of moles, R = gas constant, T = temperature). Hence, increasing both temperature (T) and moles of gas (n), while other variables stay constant, will indeed increase the pressure of the system.\n",
      "Answer_text: Increasing temperature, increasing moles of gas\n",
      "Answer: C\n",
      "\n",
      "Question: What is the capital of France?\n",
      "Choices:\n",
      "A. Berlin\n",
      "B. Paris\n",
      "C. Madrid\n",
      "D. Lisbon\n",
      "Explanation: \n",
      "Answer: \n",
      "\n",
      "\n",
      "\n"
     ]
    }
   ],
   "source": [
    "from rosettaeval import MMLU_CB\n",
    "# MMLU College Biology\n",
    "\n",
    "mlk = MMLU_CB('cot', 1)\n",
    "print(mlk.get_prompt(sample)['full_prompt'])"
   ]
  },
  {
   "cell_type": "code",
   "execution_count": 6,
   "id": "dbe3c970-f0ab-470a-9377-6c1924e74a24",
   "metadata": {},
   "outputs": [
    {
     "name": "stdout",
     "output_type": "stream",
     "text": [
      "The following are multiple choice questions about medical knowledge. Solve them in a step-by-step fashion, starting by summarizing the available information. Output a single option from the four options as the final answer.\n",
      "\n",
      "Question: The energy for all forms of muscle contraction is provided by:\n",
      "Choices:\n",
      "A. ATP\n",
      "B. ADP\n",
      "C. phosphocreatine\n",
      "D. oxidative phosphorylation\n",
      "Explanation: The sole fuel for muscle contraction is adenosine triphosphate (ATP). During near maximal intense exercise the muscle store of ATP will be depleted in less than one second. Therefore, to maintain normal contractile function ATP must be continually resynthesized. These pathways include phosphocreatine and muscle glycogen breakdown, thus enabling substrate-level phosphorylation (‘anaerobic’) and oxidative phosphorylation by using reducing equivalents from carbohydrate and fat metabolism (‘aerobic’).\n",
      "Answer_text: ATP\n",
      "Answer: A\n",
      "\n",
      "Question: What is the capital of France?\n",
      "Choices:\n",
      "A. Berlin\n",
      "B. Paris\n",
      "C. Madrid\n",
      "D. Lisbon\n",
      "Explanation: \n",
      "Answer: \n",
      "\n",
      "\n",
      "\n"
     ]
    }
   ],
   "source": [
    "from rosettaeval import MMLU_CK\n",
    "# MMLU Clinical Knowledge\n",
    "\n",
    "mlk = MMLU_CK('cot', 1)\n",
    "print(mlk.get_prompt(sample)['full_prompt'])"
   ]
  },
  {
   "cell_type": "code",
   "execution_count": 7,
   "id": "288d1df1-0bb4-4b6b-ad7a-cdf6b2e30fb1",
   "metadata": {},
   "outputs": [
    {
     "name": "stdout",
     "output_type": "stream",
     "text": [
      "The following are multiple choice questions about medical knowledge. Solve them in a step-by-step fashion, starting by summarizing the available information. Output a single option from the four options as the final answer.\n",
      "\n",
      "Question: In a given population, 1 out of every 400 people has a cancer caused by a completely recessive allele, b. Assuming the population is in Hardy-Weinberg equilibrium, which of the following is the expected proportion of individuals who carry the b allele but are not expected to develop the cancer?\n",
      "Choices:\n",
      "A. 1/400\n",
      "B. 19/400\n",
      "C. 20/400\n",
      "D. 38/400\n",
      "Explanation: The expected proportion of individuals who carry the b allele but are not expected to develop the cancer equals to the frequency of heterozygous allele in the given population. According to the Hardy-Weinberg equation p∧2 + 2pq + q∧2 = 1, where p is the frequency of dominant allele frequency, q is the frequency of recessive allele frequency, p∧2 is the frequency of the homozygous dominant allele, q∧2 is the frequency of the recessive allele, and 2pq is the frequency of the heterozygous allele. Given that q∧2=1/400, hence, q=0.05 and p=1-q=0.95. The frequency of the heterozygous allele is 2pq=2*0.05*0.95=38/400.\n",
      "Answer_text: 38/400\n",
      "Answer: D\n",
      "\n",
      "Question: What is the capital of France?\n",
      "Choices:\n",
      "A. Berlin\n",
      "B. Paris\n",
      "C. Madrid\n",
      "D. Lisbon\n",
      "Explanation: \n",
      "Answer: \n",
      "\n",
      "\n",
      "\n"
     ]
    }
   ],
   "source": [
    "from rosettaeval import MMLU_MG\n",
    "# MMLU Medical Genetics \n",
    "\n",
    "mlk = MMLU_MG('cot', 1)\n",
    "print(mlk.get_prompt(sample)['full_prompt'])"
   ]
  },
  {
   "cell_type": "code",
   "execution_count": 8,
   "id": "7e833894-6dd9-4d11-a3e1-17fd92a435b3",
   "metadata": {},
   "outputs": [
    {
     "name": "stdout",
     "output_type": "stream",
     "text": [
      "The following are multiple choice questions about medical knowledge. Solve them in a step-by-step fashion, starting by summarizing the available information. Output a single option from the four options as the final answer.\n",
      "\n",
      "Question: A 22-year-old male marathon runner presents to the office with the complaint of right-sided rib pain when he runs long distances. Physical examination reveals normal heart and lung findings and an exhalation dysfunction at ribs 4-5 on the right. Which of the following muscles or muscle groups will be most useful in correcting this dysfunction utilizing a direct method?\n",
      "Choices:\n",
      "A. anterior scalene\n",
      "B. latissimus dorsi\n",
      "C. pectoralis minor\n",
      "D. quadratus lumborum\n",
      "Explanation: All of the muscles have an insertion on the rib cage; however only one has an insertion at ribs 4-5 and could be responsible for right-sided rib pain: pectoralis minor. Pectoralis minor inserts to the costal cartilage of the anterior third to fifth ribs.\n",
      "Answer_text: pectoralis minor\n",
      "Answer: C\n",
      "\n",
      "Question: What is the capital of France?\n",
      "Choices:\n",
      "A. Berlin\n",
      "B. Paris\n",
      "C. Madrid\n",
      "D. Lisbon\n",
      "Explanation: \n",
      "Answer: \n",
      "\n",
      "\n",
      "\n"
     ]
    }
   ],
   "source": [
    "from rosettaeval import MMLU_PM\n",
    "# MMLU Professional Medicine \n",
    "\n",
    "mlk = MMLU_PM('cot', 1)\n",
    "print(mlk.get_prompt(sample)['full_prompt'])"
   ]
  },
  {
   "cell_type": "code",
   "execution_count": null,
   "id": "f74588ff-78ba-41a7-b6eb-b70bbf9f3044",
   "metadata": {},
   "outputs": [],
   "source": []
  }
 ],
 "metadata": {
  "kernelspec": {
   "display_name": "Python 3 (ipykernel)",
   "language": "python",
   "name": "python3"
  },
  "language_info": {
   "codemirror_mode": {
    "name": "ipython",
    "version": 3
   },
   "file_extension": ".py",
   "mimetype": "text/x-python",
   "name": "python",
   "nbconvert_exporter": "python",
   "pygments_lexer": "ipython3",
   "version": "3.9.6"
  }
 },
 "nbformat": 4,
 "nbformat_minor": 5
}
