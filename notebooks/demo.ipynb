{
 "cells": [
  {
   "cell_type": "code",
   "execution_count": 3,
   "id": "2c27d437-d84a-4869-8348-17e5c89c1bbe",
   "metadata": {},
   "outputs": [
    {
     "name": "stdout",
     "output_type": "stream",
     "text": [
      "The following are multiple choice questions about medical knowledge. Solve them in a step-by-step fashion, starting by summarizing the available information. Output a single option from the four options as the final answer.\n",
      "\n",
      "Question: Presence of it indicates remote contamination of water\n",
      "Choices:\n",
      "A. Streptococci\n",
      "B. Staphylococci\n",
      "C. Clostridium perfringens\n",
      "D. Vibrio\n",
      "Explanation: Let’s solve this step-by-step, referring to authoritative sources as needed. Because Clostridium perfringens spores are both specific to sewage contamination and environmentally stable, they are considered as possible conservative indicators of human fecal contamination and possible surrogates for environmentally stable pathogens.\n",
      "Answer_text: Clostridium perfringens\n",
      "Answer: C\n",
      "\n",
      "Question: What is the age of routine screening mammography?\n",
      "Choices:\n",
      "A. 20 years\n",
      "B. 30 years\n",
      "C. 40 years\n",
      "D. 50 years\n",
      "Explanation: Let’s solve this step-by-step, referring to authoritative sources as needed. The age of routine screening depends on the country you are interested in and varies widely. For the US, it is 40 years of age according to the American Cancer Society. In Europe, it is typically closer to 50 years. For a patient based in the US, the best answer is 40 years.\n",
      "Answer_text: 40 years\n",
      "Answer: C\n",
      "\n",
      "Question: A 65-year-old male complains of severe back pain and inability to move his left lower limb. Radiographic studies demonstrate the compression of nerve elements at the intervertebral foramen between vertebrae L5 and S1. Which structure is most likely responsible for this space-occupying lesion?\n",
      "Choices:\n",
      "A. Anulus fibrosus\n",
      "B. Nucleus pulposus\n",
      "C. Posterior longitudinal ligament\n",
      "D. Anterior longitudinal ligament\n",
      "Explanation: Let’s solve this step-by-step, referring to authoritative sources as needed. This man describes a herniated intervertebral disk through a tear in the surrounding annulus fibrosus. The soft, gelatinous 'nucleus pulposus' is forced out through a weakened part of the disk, resulting in back pain and nerve root irritation. In this case, the impingement is resulting in paralysis and should be considered a medical emergency. Overall, the structure that is causing the compression and symptoms is the nucleus pulposus.\n",
      "Answer_text: Nucleus pulposus\n",
      "Answer: B\n",
      "\n",
      "Question: Maximum increase in prolactin level is caused by?\n",
      "Choices:\n",
      "A. Risperidone\n",
      "B. Clozapine\n",
      "C. Olanzapine\n",
      "D. Aripiprazole\n",
      "Explanation: Let’s solve this step-by-step, referring to authoritative sources as needed. Clozapine generally does not raise prolactin levels. Atypicals such as olanzapine and aripiprazole cause small if no elevation. Risperidone is known to result in a sustained elevated prolactin level. Therefore risperidone is likely to cause the maximum increase in prolactin level.\n",
      "Answer_text: Risperidone\n",
      "Answer: A\n",
      "\n",
      "Question: Neuroendocrine cells in the lungs are:\n",
      "Choices:\n",
      "A. Dendritic cells\n",
      "B. Type I pneumocytes\n",
      "C. Type II pneumocytes\n",
      "D. APUD cells\n",
      "Explanation: Let’s solve this step-by-step, referring to authoritative sources as needed. Neuroendocrine cells, which are also known as Kultschitsky-type cells, Feyrter cells and APUD cells, are found in the basal layer of the surface epithelium and in the bronchial glands.\n",
      "Answer_text: APUD cells\n",
      "Answer: D\n",
      "\n",
      "Question: What is the capital of France?\n",
      "Choices:\n",
      "1. Berlin\n",
      "2. Paris\n",
      "3. Madrid\n",
      "4. Lisbon\n",
      "Explanation: \n",
      "Answer: \n",
      "\n",
      "\n",
      "\n"
     ]
    }
   ],
   "source": [
    "from easyeval import MedMCQA\n",
    "\n",
    "instruction = \"Select correct option\"\n",
    "\n",
    "sample = {\n",
    "    \"id\": 1212113,\n",
    "    \"instruction\": \"Select the correct answer from the choices below.\",\n",
    "    \"question\": \"What is the capital of France?\",\n",
    "    \"choices\": [\"Berlin\", \"Paris\", \"Madrid\", \"Lisbon\"],\n",
    "    \"correct_answer\": \"answer\",\n",
    "    \"correct_option\": \"D\",\n",
    "}\n",
    "mlk = MedMCQA('cot', 5)\n",
    "print(mlk.get_prompt(sample)['full_prompt'])"
   ]
  },
  {
   "cell_type": "code",
   "execution_count": null,
   "id": "97b0b297-e0ea-45cc-8e26-d03415d43a38",
   "metadata": {},
   "outputs": [],
   "source": []
  }
 ],
 "metadata": {
  "kernelspec": {
   "display_name": "Python 3 (ipykernel)",
   "language": "python",
   "name": "python3"
  },
  "language_info": {
   "codemirror_mode": {
    "name": "ipython",
    "version": 3
   },
   "file_extension": ".py",
   "mimetype": "text/x-python",
   "name": "python",
   "nbconvert_exporter": "python",
   "pygments_lexer": "ipython3",
   "version": "3.9.6"
  }
 },
 "nbformat": 4,
 "nbformat_minor": 5
}
