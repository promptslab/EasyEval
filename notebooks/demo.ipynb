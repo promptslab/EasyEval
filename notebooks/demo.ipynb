{
 "cells": [
  {
   "cell_type": "markdown",
   "id": "5133a3dd",
   "metadata": {},
   "source": [
    "#### Import packages"
   ]
  },
  {
   "cell_type": "code",
   "execution_count": 8,
   "id": "0472274b",
   "metadata": {},
   "outputs": [],
   "source": [
    "import sys\n",
    "\n",
    "import loguru\n",
    "import rich\n",
    "\n",
    "from rosettaeval import load_dataset\n"
   ]
  },
  {
   "cell_type": "markdown",
   "id": "2b89de7c",
   "metadata": {},
   "source": [
    "#### Define logging level"
   ]
  },
  {
   "cell_type": "code",
   "execution_count": 6,
   "id": "ce4e7a33",
   "metadata": {},
   "outputs": [
    {
     "data": {
      "text/plain": [
       "2"
      ]
     },
     "execution_count": 6,
     "metadata": {},
     "output_type": "execute_result"
    }
   ],
   "source": [
    "\n",
    "loguru.logger.remove()\n",
    "loguru.logger.add(sys.stderr, level=\"DEBUG\")"
   ]
  },
  {
   "cell_type": "markdown",
   "id": "221bd077",
   "metadata": {},
   "source": [
    "#### Load full task dataset"
   ]
  },
  {
   "cell_type": "code",
   "execution_count": 7,
   "id": "97b0b297-e0ea-45cc-8e26-d03415d43a38",
   "metadata": {},
   "outputs": [
    {
     "name": "stderr",
     "output_type": "stream",
     "text": [
      "\u001b[32m2024-02-11 16:11:52.805\u001b[0m | \u001b[1mINFO    \u001b[0m | \u001b[36mrosettaeval.loader.factory\u001b[0m:\u001b[36mload_dataset\u001b[0m:\u001b[36m64\u001b[0m - \u001b[1mLoading dataset: medmcqa\u001b[0m\n",
      "\u001b[32m2024-02-11 16:11:59.150\u001b[0m | \u001b[1mINFO    \u001b[0m | \u001b[36mrosettaeval.loader.factory\u001b[0m:\u001b[36mfind_adapter\u001b[0m:\u001b[36m18\u001b[0m - \u001b[1mFound adapter: MedMcQaQueryAdapter\u001b[0m\n",
      "\u001b[32m2024-02-11 16:11:59.151\u001b[0m | \u001b[34m\u001b[1mDEBUG   \u001b[0m | \u001b[36mrosettaeval.loader.factory\u001b[0m:\u001b[36mfind_adapter\u001b[0m:\u001b[36m19\u001b[0m - \u001b[34m\u001b[1mInput data: {'id': '45258d3d-b974-44dd-a161-c3fccbdadd88', 'question': 'Which of the following is not true for myelinated nerve fibers:', 'opa': 'Impulse through myelinated fibers is slower than non-myelinated fibers', 'opb': 'Membrane currents are generated at nodes of Ranvier', 'opc': 'Saltatory conduction of impulses is seen', 'opd': 'Local anesthesia is effective only when the nerve is not covered by myelin sheath', 'cop': 0, 'choice_type': 'multi', 'exp': None, 'subject_name': 'Physiology', 'topic_name': None}\u001b[0m\n",
      "\u001b[32m2024-02-11 16:11:59.152\u001b[0m | \u001b[34m\u001b[1mDEBUG   \u001b[0m | \u001b[36mrosettaeval.loader.factory\u001b[0m:\u001b[36mfind_adapter\u001b[0m:\u001b[36m20\u001b[0m - \u001b[34m\u001b[1mOutput data: {'id': '45258d3d-b974-44dd-a161-c3fccbdadd88', 'question': 'Which of the following is not true for myelinated nerve fibers:', 'answers': ['Impulse through myelinated fibers is slower than non-myelinated fibers', 'Membrane currents are generated at nodes of Ranvier', 'Saltatory conduction of impulses is seen', 'Local anesthesia is effective only when the nerve is not covered by myelin sheath'], 'target': 0}\u001b[0m\n"
     ]
    }
   ],
   "source": [
    "dataset = load_dataset(name_or_path=\"medmcqa\", split=\"validation\")"
   ]
  },
  {
   "cell_type": "code",
   "execution_count": 13,
   "id": "800c108a",
   "metadata": {},
   "outputs": [
    {
     "data": {
      "text/html": [
       "<pre style=\"white-space:pre;overflow-x:auto;line-height:normal;font-family:Menlo,'DejaVu Sans Mono',consolas,'Courier New',monospace\"><span style=\"color: #800080; text-decoration-color: #800080; font-weight: bold\">Dataset</span><span style=\"font-weight: bold\">({</span>\n",
       "    features: <span style=\"font-weight: bold\">[</span><span style=\"color: #008000; text-decoration-color: #008000\">'id'</span>, <span style=\"color: #008000; text-decoration-color: #008000\">'question'</span>, <span style=\"color: #008000; text-decoration-color: #008000\">'answers'</span>, <span style=\"color: #008000; text-decoration-color: #008000\">'target'</span><span style=\"font-weight: bold\">]</span>,\n",
       "    num_rows: <span style=\"color: #008080; text-decoration-color: #008080; font-weight: bold\">4183</span>\n",
       "<span style=\"font-weight: bold\">})</span>\n",
       "</pre>\n"
      ],
      "text/plain": [
       "\u001b[1;35mDataset\u001b[0m\u001b[1m(\u001b[0m\u001b[1m{\u001b[0m\n",
       "    features: \u001b[1m[\u001b[0m\u001b[32m'id'\u001b[0m, \u001b[32m'question'\u001b[0m, \u001b[32m'answers'\u001b[0m, \u001b[32m'target'\u001b[0m\u001b[1m]\u001b[0m,\n",
       "    num_rows: \u001b[1;36m4183\u001b[0m\n",
       "\u001b[1m}\u001b[0m\u001b[1m)\u001b[0m\n"
      ]
     },
     "metadata": {},
     "output_type": "display_data"
    },
    {
     "data": {
      "text/html": [
       "<pre style=\"white-space:pre;overflow-x:auto;line-height:normal;font-family:Menlo,'DejaVu Sans Mono',consolas,'Courier New',monospace\"><span style=\"color: #008080; text-decoration-color: #008080; font-weight: bold\">4183</span>\n",
       "</pre>\n"
      ],
      "text/plain": [
       "\u001b[1;36m4183\u001b[0m\n"
      ]
     },
     "metadata": {},
     "output_type": "display_data"
    },
    {
     "data": {
      "text/html": [
       "<pre style=\"white-space:pre;overflow-x:auto;line-height:normal;font-family:Menlo,'DejaVu Sans Mono',consolas,'Courier New',monospace\"><span style=\"font-weight: bold\">{</span>\n",
       "    <span style=\"color: #008000; text-decoration-color: #008000\">'id'</span>: <span style=\"color: #008000; text-decoration-color: #008000\">'45258d3d-b974-44dd-a161-c3fccbdadd88'</span>,\n",
       "    <span style=\"color: #008000; text-decoration-color: #008000\">'question'</span>: <span style=\"color: #008000; text-decoration-color: #008000\">'Which of the following is not true for myelinated nerve fibers:'</span>,\n",
       "    <span style=\"color: #008000; text-decoration-color: #008000\">'answers'</span>: <span style=\"font-weight: bold\">[</span>\n",
       "        <span style=\"color: #008000; text-decoration-color: #008000\">'Impulse through myelinated fibers is slower than non-myelinated fibers'</span>,\n",
       "        <span style=\"color: #008000; text-decoration-color: #008000\">'Membrane currents are generated at nodes of Ranvier'</span>,\n",
       "        <span style=\"color: #008000; text-decoration-color: #008000\">'Saltatory conduction of impulses is seen'</span>,\n",
       "        <span style=\"color: #008000; text-decoration-color: #008000\">'Local anesthesia is effective only when the nerve is not covered by myelin sheath'</span>\n",
       "    <span style=\"font-weight: bold\">]</span>,\n",
       "    <span style=\"color: #008000; text-decoration-color: #008000\">'target'</span>: <span style=\"color: #008080; text-decoration-color: #008080; font-weight: bold\">0</span>\n",
       "<span style=\"font-weight: bold\">}</span>\n",
       "</pre>\n"
      ],
      "text/plain": [
       "\u001b[1m{\u001b[0m\n",
       "    \u001b[32m'id'\u001b[0m: \u001b[32m'45258d3d-b974-44dd-a161-c3fccbdadd88'\u001b[0m,\n",
       "    \u001b[32m'question'\u001b[0m: \u001b[32m'Which of the following is not true for myelinated nerve fibers:'\u001b[0m,\n",
       "    \u001b[32m'answers'\u001b[0m: \u001b[1m[\u001b[0m\n",
       "        \u001b[32m'Impulse through myelinated fibers is slower than non-myelinated fibers'\u001b[0m,\n",
       "        \u001b[32m'Membrane currents are generated at nodes of Ranvier'\u001b[0m,\n",
       "        \u001b[32m'Saltatory conduction of impulses is seen'\u001b[0m,\n",
       "        \u001b[32m'Local anesthesia is effective only when the nerve is not covered by myelin sheath'\u001b[0m\n",
       "    \u001b[1m]\u001b[0m,\n",
       "    \u001b[32m'target'\u001b[0m: \u001b[1;36m0\u001b[0m\n",
       "\u001b[1m}\u001b[0m\n"
      ]
     },
     "metadata": {},
     "output_type": "display_data"
    }
   ],
   "source": [
    "rich.print(dataset)\n",
    "rich.print(dataset[0]) # type: ignore"
   ]
  },
  {
   "cell_type": "markdown",
   "id": "65ace939",
   "metadata": {},
   "source": [
    "#### Load 1000 task samples"
   ]
  },
  {
   "cell_type": "code",
   "execution_count": 14,
   "id": "5d5ef5b3",
   "metadata": {},
   "outputs": [
    {
     "name": "stderr",
     "output_type": "stream",
     "text": [
      "\u001b[32m2024-02-11 16:18:10.351\u001b[0m | \u001b[1mINFO    \u001b[0m | \u001b[36mrosettaeval.loader.factory\u001b[0m:\u001b[36mload_dataset\u001b[0m:\u001b[36m64\u001b[0m - \u001b[1mLoading dataset: medmcqa\u001b[0m\n",
      "\u001b[32m2024-02-11 16:18:17.699\u001b[0m | \u001b[1mINFO    \u001b[0m | \u001b[36mrosettaeval.loader.factory\u001b[0m:\u001b[36mfind_adapter\u001b[0m:\u001b[36m18\u001b[0m - \u001b[1mFound adapter: MedMcQaQueryAdapter\u001b[0m\n",
      "\u001b[32m2024-02-11 16:18:17.699\u001b[0m | \u001b[34m\u001b[1mDEBUG   \u001b[0m | \u001b[36mrosettaeval.loader.factory\u001b[0m:\u001b[36mfind_adapter\u001b[0m:\u001b[36m19\u001b[0m - \u001b[34m\u001b[1mInput data: {'id': '45258d3d-b974-44dd-a161-c3fccbdadd88', 'question': 'Which of the following is not true for myelinated nerve fibers:', 'opa': 'Impulse through myelinated fibers is slower than non-myelinated fibers', 'opb': 'Membrane currents are generated at nodes of Ranvier', 'opc': 'Saltatory conduction of impulses is seen', 'opd': 'Local anesthesia is effective only when the nerve is not covered by myelin sheath', 'cop': 0, 'choice_type': 'multi', 'exp': None, 'subject_name': 'Physiology', 'topic_name': None}\u001b[0m\n",
      "\u001b[32m2024-02-11 16:18:17.700\u001b[0m | \u001b[34m\u001b[1mDEBUG   \u001b[0m | \u001b[36mrosettaeval.loader.factory\u001b[0m:\u001b[36mfind_adapter\u001b[0m:\u001b[36m20\u001b[0m - \u001b[34m\u001b[1mOutput data: {'id': '45258d3d-b974-44dd-a161-c3fccbdadd88', 'question': 'Which of the following is not true for myelinated nerve fibers:', 'answers': ['Impulse through myelinated fibers is slower than non-myelinated fibers', 'Membrane currents are generated at nodes of Ranvier', 'Saltatory conduction of impulses is seen', 'Local anesthesia is effective only when the nerve is not covered by myelin sheath'], 'target': 0}\u001b[0m\n",
      "Adapting dataset using <class 'rosettaeval.loader.tasks.medmcqa.base.MedMcQaQueryAdapter'>: 100%|██████████| 1000/1000 [00:00<00:00, 13052.30 examples/s]\n"
     ]
    }
   ],
   "source": [
    "dataset = load_dataset(name_or_path=\"medmcqa\", split=\"validation\", num_samples=1000)"
   ]
  },
  {
   "cell_type": "code",
   "execution_count": 15,
   "id": "8680526f",
   "metadata": {},
   "outputs": [
    {
     "data": {
      "text/html": [
       "<pre style=\"white-space:pre;overflow-x:auto;line-height:normal;font-family:Menlo,'DejaVu Sans Mono',consolas,'Courier New',monospace\"><span style=\"color: #800080; text-decoration-color: #800080; font-weight: bold\">Dataset</span><span style=\"font-weight: bold\">({</span>\n",
       "    features: <span style=\"font-weight: bold\">[</span><span style=\"color: #008000; text-decoration-color: #008000\">'id'</span>, <span style=\"color: #008000; text-decoration-color: #008000\">'question'</span>, <span style=\"color: #008000; text-decoration-color: #008000\">'answers'</span>, <span style=\"color: #008000; text-decoration-color: #008000\">'target'</span><span style=\"font-weight: bold\">]</span>,\n",
       "    num_rows: <span style=\"color: #008080; text-decoration-color: #008080; font-weight: bold\">1000</span>\n",
       "<span style=\"font-weight: bold\">})</span>\n",
       "</pre>\n"
      ],
      "text/plain": [
       "\u001b[1;35mDataset\u001b[0m\u001b[1m(\u001b[0m\u001b[1m{\u001b[0m\n",
       "    features: \u001b[1m[\u001b[0m\u001b[32m'id'\u001b[0m, \u001b[32m'question'\u001b[0m, \u001b[32m'answers'\u001b[0m, \u001b[32m'target'\u001b[0m\u001b[1m]\u001b[0m,\n",
       "    num_rows: \u001b[1;36m1000\u001b[0m\n",
       "\u001b[1m}\u001b[0m\u001b[1m)\u001b[0m\n"
      ]
     },
     "metadata": {},
     "output_type": "display_data"
    },
    {
     "data": {
      "text/html": [
       "<pre style=\"white-space:pre;overflow-x:auto;line-height:normal;font-family:Menlo,'DejaVu Sans Mono',consolas,'Courier New',monospace\"><span style=\"font-weight: bold\">{</span>\n",
       "    <span style=\"color: #008000; text-decoration-color: #008000\">'id'</span>: <span style=\"color: #008000; text-decoration-color: #008000\">'1ec93a8b-e2dd-4468-bee1-74100f803516'</span>,\n",
       "    <span style=\"color: #008000; text-decoration-color: #008000\">'question'</span>: <span style=\"color: #008000; text-decoration-color: #008000\">'A doctor who performed the autopsy on a 26-year-old married woman, committing suicide found the </span>\n",
       "<span style=\"color: #008000; text-decoration-color: #008000\">cause of death to be aluminium phosphide poisoning. She was summoned in a cou of law where he willingly hides this </span>\n",
       "<span style=\"color: #008000; text-decoration-color: #008000\">information. This is punishable under which section?'</span>,\n",
       "    <span style=\"color: #008000; text-decoration-color: #008000\">'answers'</span>: <span style=\"font-weight: bold\">[</span><span style=\"color: #008000; text-decoration-color: #008000\">'IPC 193'</span>, <span style=\"color: #008000; text-decoration-color: #008000\">'CrPC 175'</span>, <span style=\"color: #008000; text-decoration-color: #008000\">'CrPC 69'</span>, <span style=\"color: #008000; text-decoration-color: #008000\">'IPC 189'</span><span style=\"font-weight: bold\">]</span>,\n",
       "    <span style=\"color: #008000; text-decoration-color: #008000\">'target'</span>: <span style=\"color: #008080; text-decoration-color: #008080; font-weight: bold\">0</span>\n",
       "<span style=\"font-weight: bold\">}</span>\n",
       "</pre>\n"
      ],
      "text/plain": [
       "\u001b[1m{\u001b[0m\n",
       "    \u001b[32m'id'\u001b[0m: \u001b[32m'1ec93a8b-e2dd-4468-bee1-74100f803516'\u001b[0m,\n",
       "    \u001b[32m'question'\u001b[0m: \u001b[32m'A doctor who performed the autopsy on a 26-year-old married woman, committing suicide found the \u001b[0m\n",
       "\u001b[32mcause of death to be aluminium phosphide poisoning. She was summoned in a cou of law where he willingly hides this \u001b[0m\n",
       "\u001b[32minformation. This is punishable under which section?'\u001b[0m,\n",
       "    \u001b[32m'answers'\u001b[0m: \u001b[1m[\u001b[0m\u001b[32m'IPC 193'\u001b[0m, \u001b[32m'CrPC 175'\u001b[0m, \u001b[32m'CrPC 69'\u001b[0m, \u001b[32m'IPC 189'\u001b[0m\u001b[1m]\u001b[0m,\n",
       "    \u001b[32m'target'\u001b[0m: \u001b[1;36m0\u001b[0m\n",
       "\u001b[1m}\u001b[0m\n"
      ]
     },
     "metadata": {},
     "output_type": "display_data"
    }
   ],
   "source": [
    "rich.print(dataset)\n",
    "rich.print(dataset[0]) # type: ignore"
   ]
  },
  {
   "cell_type": "markdown",
   "id": "fcb39d50",
   "metadata": {},
   "source": [
    "#### Parallelize task loading"
   ]
  },
  {
   "cell_type": "code",
   "execution_count": 16,
   "id": "1d2e6053",
   "metadata": {},
   "outputs": [
    {
     "name": "stderr",
     "output_type": "stream",
     "text": [
      "\u001b[32m2024-02-11 16:20:06.794\u001b[0m | \u001b[1mINFO    \u001b[0m | \u001b[36mrosettaeval.loader.factory\u001b[0m:\u001b[36mload_dataset\u001b[0m:\u001b[36m64\u001b[0m - \u001b[1mLoading dataset: medmcqa\u001b[0m\n",
      "\u001b[32m2024-02-11 16:20:12.785\u001b[0m | \u001b[1mINFO    \u001b[0m | \u001b[36mrosettaeval.loader.factory\u001b[0m:\u001b[36mfind_adapter\u001b[0m:\u001b[36m18\u001b[0m - \u001b[1mFound adapter: MedMcQaQueryAdapter\u001b[0m\n",
      "\u001b[32m2024-02-11 16:20:12.785\u001b[0m | \u001b[34m\u001b[1mDEBUG   \u001b[0m | \u001b[36mrosettaeval.loader.factory\u001b[0m:\u001b[36mfind_adapter\u001b[0m:\u001b[36m19\u001b[0m - \u001b[34m\u001b[1mInput data: {'id': 'e9ad821a-c438-4965-9f77-760819dfa155', 'question': 'Chronic urethral obstruction due to benign prismatic hyperplasia can lead to the following change in kidney parenchyma', 'opa': 'Hyperplasia', 'opb': 'Hyperophy', 'opc': 'Atrophy', 'opd': 'Dyplasia', 'cop': 2, 'choice_type': 'single', 'exp': 'Chronic urethral obstruction because of urinary calculi, prostatic hyperophy, tumors, normal pregnancy, tumors, uterine prolapse or functional disorders cause hydronephrosis which by definition is used to describe dilatation of renal pelvis and calculus associated with progressive atrophy of the kidney due to obstruction to the outflow of urine Refer Robbins 7yh/9,1012,9/e. P950', 'subject_name': 'Anatomy', 'topic_name': 'Urinary tract'}\u001b[0m\n",
      "\u001b[32m2024-02-11 16:20:12.786\u001b[0m | \u001b[34m\u001b[1mDEBUG   \u001b[0m | \u001b[36mrosettaeval.loader.factory\u001b[0m:\u001b[36mfind_adapter\u001b[0m:\u001b[36m20\u001b[0m - \u001b[34m\u001b[1mOutput data: {'id': 'e9ad821a-c438-4965-9f77-760819dfa155', 'question': 'Chronic urethral obstruction due to benign prismatic hyperplasia can lead to the following change in kidney parenchyma', 'answers': ['Hyperplasia', 'Hyperophy', 'Atrophy', 'Dyplasia'], 'target': 2}\u001b[0m\n",
      "Adapting dataset using <class 'rosettaeval.loader.tasks.medmcqa.base.MedMcQaQueryAdapter'> (num_proc=4): 100%|██████████| 1000/1000 [00:00<00:00, 5537.41 examples/s]\n"
     ]
    }
   ],
   "source": [
    "dataset = load_dataset(name_or_path=\"medmcqa\", split=\"train\", num_samples=1000, num_proc=4)"
   ]
  },
  {
   "cell_type": "code",
   "execution_count": 17,
   "id": "2316baba",
   "metadata": {},
   "outputs": [
    {
     "data": {
      "text/html": [
       "<pre style=\"white-space:pre;overflow-x:auto;line-height:normal;font-family:Menlo,'DejaVu Sans Mono',consolas,'Courier New',monospace\"><span style=\"color: #800080; text-decoration-color: #800080; font-weight: bold\">Dataset</span><span style=\"font-weight: bold\">({</span>\n",
       "    features: <span style=\"font-weight: bold\">[</span><span style=\"color: #008000; text-decoration-color: #008000\">'id'</span>, <span style=\"color: #008000; text-decoration-color: #008000\">'question'</span>, <span style=\"color: #008000; text-decoration-color: #008000\">'answers'</span>, <span style=\"color: #008000; text-decoration-color: #008000\">'target'</span><span style=\"font-weight: bold\">]</span>,\n",
       "    num_rows: <span style=\"color: #008080; text-decoration-color: #008080; font-weight: bold\">1000</span>\n",
       "<span style=\"font-weight: bold\">})</span>\n",
       "</pre>\n"
      ],
      "text/plain": [
       "\u001b[1;35mDataset\u001b[0m\u001b[1m(\u001b[0m\u001b[1m{\u001b[0m\n",
       "    features: \u001b[1m[\u001b[0m\u001b[32m'id'\u001b[0m, \u001b[32m'question'\u001b[0m, \u001b[32m'answers'\u001b[0m, \u001b[32m'target'\u001b[0m\u001b[1m]\u001b[0m,\n",
       "    num_rows: \u001b[1;36m1000\u001b[0m\n",
       "\u001b[1m}\u001b[0m\u001b[1m)\u001b[0m\n"
      ]
     },
     "metadata": {},
     "output_type": "display_data"
    },
    {
     "data": {
      "text/html": [
       "<pre style=\"white-space:pre;overflow-x:auto;line-height:normal;font-family:Menlo,'DejaVu Sans Mono',consolas,'Courier New',monospace\"><span style=\"font-weight: bold\">{</span>\n",
       "    <span style=\"color: #008000; text-decoration-color: #008000\">'id'</span>: <span style=\"color: #008000; text-decoration-color: #008000\">'c1bb1cd3-408d-4da8-abc6-3891c06229db'</span>,\n",
       "    <span style=\"color: #008000; text-decoration-color: #008000\">'question'</span>: <span style=\"color: #008000; text-decoration-color: #008000\">'Which of the following is true regarding major basic protein?'</span>,\n",
       "    <span style=\"color: #008000; text-decoration-color: #008000\">'answers'</span>: <span style=\"font-weight: bold\">[</span>\n",
       "        <span style=\"color: #008000; text-decoration-color: #008000\">'Formed by Eosinophils'</span>,\n",
       "        <span style=\"color: #008000; text-decoration-color: #008000\">'Cytotoxic to parasites'</span>,\n",
       "        <span style=\"color: #008000; text-decoration-color: #008000\">'Not very effective against bacteria'</span>,\n",
       "        <span style=\"color: #008000; text-decoration-color: #008000\">'All the above'</span>\n",
       "    <span style=\"font-weight: bold\">]</span>,\n",
       "    <span style=\"color: #008000; text-decoration-color: #008000\">'target'</span>: <span style=\"color: #008080; text-decoration-color: #008080; font-weight: bold\">3</span>\n",
       "<span style=\"font-weight: bold\">}</span>\n",
       "</pre>\n"
      ],
      "text/plain": [
       "\u001b[1m{\u001b[0m\n",
       "    \u001b[32m'id'\u001b[0m: \u001b[32m'c1bb1cd3-408d-4da8-abc6-3891c06229db'\u001b[0m,\n",
       "    \u001b[32m'question'\u001b[0m: \u001b[32m'Which of the following is true regarding major basic protein?'\u001b[0m,\n",
       "    \u001b[32m'answers'\u001b[0m: \u001b[1m[\u001b[0m\n",
       "        \u001b[32m'Formed by Eosinophils'\u001b[0m,\n",
       "        \u001b[32m'Cytotoxic to parasites'\u001b[0m,\n",
       "        \u001b[32m'Not very effective against bacteria'\u001b[0m,\n",
       "        \u001b[32m'All the above'\u001b[0m\n",
       "    \u001b[1m]\u001b[0m,\n",
       "    \u001b[32m'target'\u001b[0m: \u001b[1;36m3\u001b[0m\n",
       "\u001b[1m}\u001b[0m\n"
      ]
     },
     "metadata": {},
     "output_type": "display_data"
    }
   ],
   "source": [
    "rich.print(dataset)\n",
    "rich.print(dataset[0]) # type: ignore"
   ]
  }
 ],
 "metadata": {
  "kernelspec": {
   "display_name": "Python 3 (ipykernel)",
   "language": "python",
   "name": "python3"
  },
  "language_info": {
   "codemirror_mode": {
    "name": "ipython",
    "version": 3
   },
   "file_extension": ".py",
   "mimetype": "text/x-python",
   "name": "python",
   "nbconvert_exporter": "python",
   "pygments_lexer": "ipython3",
   "version": "3.11.6"
  }
 },
 "nbformat": 4,
 "nbformat_minor": 5
}
